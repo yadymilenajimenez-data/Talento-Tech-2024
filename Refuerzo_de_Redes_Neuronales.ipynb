{
  "nbformat": 4,
  "nbformat_minor": 0,
  "metadata": {
    "colab": {
      "provenance": [],
      "authorship_tag": "ABX9TyM8dXKZj3dqY94lXLSyVAn7",
      "include_colab_link": true
    },
    "kernelspec": {
      "name": "python3",
      "display_name": "Python 3"
    },
    "language_info": {
      "name": "python"
    }
  },
  "cells": [
    {
      "cell_type": "markdown",
      "metadata": {
        "id": "view-in-github",
        "colab_type": "text"
      },
      "source": [
        "<a href=\"https://colab.research.google.com/github/yadymilenajimenez-data/Talento-Tech-2024/blob/master/Refuerzo_de_Redes_Neuronales.ipynb\" target=\"_parent\"><img src=\"https://colab.research.google.com/assets/colab-badge.svg\" alt=\"Open In Colab\"/></a>"
      ]
    },
    {
      "cell_type": "markdown",
      "source": [
        "# **Refuerzo de Redes Neuronales**"
      ],
      "metadata": {
        "id": "I5SQvkBon1wN"
      }
    },
    {
      "cell_type": "markdown",
      "source": [
        "progrmacaión reguar: Comvertir de grados c a f"
      ],
      "metadata": {
        "id": "giJCMo3TpQoJ"
      }
    },
    {
      "cell_type": "code",
      "execution_count": 1,
      "metadata": {
        "colab": {
          "base_uri": "https://localhost:8080/"
        },
        "id": "t1SSDxWUnyR2",
        "outputId": "a53582f2-78de-44aa-db77-2a73efc9a8cf"
      },
      "outputs": [
        {
          "output_type": "execute_result",
          "data": {
            "text/plain": [
              "212.0"
            ]
          },
          "metadata": {},
          "execution_count": 1
        }
      ],
      "source": [
        "def fuction(c):\n",
        "  f = c * 1.8 + 32\n",
        "  return f\n",
        "\n",
        "fuction(100)\n"
      ]
    },
    {
      "cell_type": "markdown",
      "source": [
        "aprendizaje automatico"
      ],
      "metadata": {
        "id": "gAlOSCIHwzJ9"
      }
    },
    {
      "cell_type": "code",
      "source": [
        "import tensorflow as tf #libreria de IA hecha por goggle proporciona una varidad de herramientas y recursos par costruir y entrenar models de AA, asi como para realizar calculos numericos de manera eficiente\n",
        "import numpy as np # trabja con arreglos numericos\n"
      ],
      "metadata": {
        "id": "qno5qpj3v0YS"
      },
      "execution_count": 3,
      "outputs": []
    },
    {
      "cell_type": "markdown",
      "source": [],
      "metadata": {
        "id": "E0ae1rH1yF17"
      }
    },
    {
      "cell_type": "code",
      "source": [
        "celsius = np.array([-40, -10, 0, 8, 15, 22, 38], dtype=float)\n",
        "fhare = np.array([-40, 14, 32, 46, 59, 72, 100])"
      ],
      "metadata": {
        "id": "5lkrqS4tx0Nu"
      },
      "execution_count": 24,
      "outputs": []
    },
    {
      "cell_type": "code",
      "source": [
        "capa = tf.keras.layers.Dense(units=1, input_shape=[1])\n",
        "modelo = tf.keras.Sequential([capa])"
      ],
      "metadata": {
        "id": "WxnShdPGyzhj"
      },
      "execution_count": 25,
      "outputs": []
    },
    {
      "cell_type": "code",
      "source": [
        "modelo.compile(\n",
        "    optimizer=tf.keras.optimizers.Adam(0.1), loss=\"mean_squared_error\"\n",
        ")"
      ],
      "metadata": {
        "id": "TGQKwGis0Cki"
      },
      "execution_count": 26,
      "outputs": []
    },
    {
      "cell_type": "code",
      "source": [
        "#entrenar el modelo con fit\n",
        "print(\"Comenzando el entrenamiento...\")\n",
        "historial = modelo.fit(celsius,fhare, epochs= 1000, verbose=False) #epocas 1000, mil vueltas/bucles a los datos de entradas\n",
        "print(\"Modelo entrenado...\")"
      ],
      "metadata": {
        "colab": {
          "base_uri": "https://localhost:8080/"
        },
        "id": "De6GKWSc2-zo",
        "outputId": "cdd2d9db-f809-400d-da67-690d9a3ef97a"
      },
      "execution_count": 27,
      "outputs": [
        {
          "output_type": "stream",
          "name": "stdout",
          "text": [
            "Comenzando el entrenamiento...\n",
            "Modelo entrenado...\n"
          ]
        }
      ]
    },
    {
      "cell_type": "code",
      "source": [
        "#grafico\n",
        "\n",
        "import matplotlib.pyplot as plt\n",
        "plt.xlabel(\"N. Cantidas de vuletas\")\n",
        "plt.ylabel(\"MAGNITUD Y PERDIDA\")\n",
        "plt.plot(historial.history[\"loss\"])"
      ],
      "metadata": {
        "colab": {
          "base_uri": "https://localhost:8080/",
          "height": 469
        },
        "id": "tsdiAlgm7lr9",
        "outputId": "f77f84e5-6ae6-4162-b728-966a91d7af2e"
      },
      "execution_count": 28,
      "outputs": [
        {
          "output_type": "execute_result",
          "data": {
            "text/plain": [
              "[<matplotlib.lines.Line2D at 0x79e1aaf55d20>]"
            ]
          },
          "metadata": {},
          "execution_count": 28
        },
        {
          "output_type": "display_data",
          "data": {
            "text/plain": [
              "<Figure size 640x480 with 1 Axes>"
            ],
            "image/png": "[encoded data removed]"
          },
          "metadata": {}
        }
      ]
    },
    {
      "cell_type": "code",
      "source": [
        "print(\"hagamos una predicion..\")\n",
        "resultado = modelo.predict([100])\n",
        "print(\"El resultado es: \" + str(resultado) + \"fhare\")"
      ],
      "metadata": {
        "colab": {
          "base_uri": "https://localhost:8080/"
        },
        "id": "swvmfwJ7-Ufj",
        "outputId": "be860a84-dd0a-41a6-9bf4-7dcbbee18985"
      },
      "execution_count": 29,
      "outputs": [
        {
          "output_type": "stream",
          "name": "stdout",
          "text": [
            "hagamos una predicion..\n",
            "1/1 [==============================] - 0s 82ms/step\n",
            "El resultado es: [[211.74374]]fhare\n"
          ]
        }
      ]
    },
    {
      "cell_type": "code",
      "source": [
        "print(\"variables internas del modelo\")\n",
        "print(capa.get_weights())\n"
      ],
      "metadata": {
        "colab": {
          "base_uri": "https://localhost:8080/"
        },
        "id": "cE_ppUvk8tYj",
        "outputId": "19dfc4bd-7c6b-443a-934c-12435d574485"
      },
      "execution_count": 31,
      "outputs": [
        {
          "output_type": "stream",
          "name": "stdout",
          "text": [
            "variables internas del modelo\n",
            "[array([[1.7981572]], dtype=float32), array([31.928028], dtype=float32)]\n"
          ]
        }
      ]
    }
  ]
}