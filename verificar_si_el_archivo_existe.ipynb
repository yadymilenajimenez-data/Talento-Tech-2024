{
  "nbformat": 4,
  "nbformat_minor": 0,
  "metadata": {
    "colab": {
      "provenance": [],
      "authorship_tag": "ABX9TyN06CY17M7sMVG5D+VI8YdX",
      "include_colab_link": true
    },
    "kernelspec": {
      "name": "python3",
      "display_name": "Python 3"
    },
    "language_info": {
      "name": "python"
    }
  },
  "cells": [
    {
      "cell_type": "markdown",
      "metadata": {
        "id": "view-in-github",
        "colab_type": "text"
      },
      "source": [
        "<a href=\"https://colab.research.google.com/github/yadymilenajimenez-data/Talento-Tech-2024/blob/master/verificar_si_el_archivo_existe.ipynb\" target=\"_parent\"><img src=\"https://colab.research.google.com/assets/colab-badge.svg\" alt=\"Open In Colab\"/></a>"
      ]
    },
    {
      "cell_type": "code",
      "execution_count": null,
      "metadata": {
        "id": "HaoudGNiklTN"
      },
      "outputs": [],
      "source": [
        "#verificar si el archivo existe\n",
        "from os.path import exists\n",
        "ruta_completa= (\"/content/mi_mapa.geojson\")\n",
        "exite=os.path,exists(ruta_completa)\n",
        "print(\"existe?: \", exite)"
      ]
    }
  ]
}