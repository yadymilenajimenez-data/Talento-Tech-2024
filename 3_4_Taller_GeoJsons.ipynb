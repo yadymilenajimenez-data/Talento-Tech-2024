{
  "nbformat": 4,
  "nbformat_minor": 0,
  "metadata": {
    "colab": {
      "provenance": [],
      "authorship_tag": "ABX9TyNxfjK1GX1KsOxc09eRgGby",
      "include_colab_link": true
    },
    "kernelspec": {
      "name": "python3",
      "display_name": "Python 3"
    },
    "language_info": {
      "name": "python"
    }
  },
  "cells": [
    {
      "cell_type": "markdown",
      "metadata": {
        "id": "view-in-github",
        "colab_type": "text"
      },
      "source": [
        "<a href=\"https://colab.research.google.com/github/yadymilenajimenez-data/Talento-Tech-2024/blob/master/3_4_Taller_GeoJsons.ipynb\" target=\"_parent\"><img src=\"https://colab.research.google.com/assets/colab-badge.svg\" alt=\"Open In Colab\"/></a>"
      ]
    },
    {
      "cell_type": "markdown",
      "source": [
        " **TALLER**\n",
        "\n",
        "Utilizando los conocimientos y herramientas de las lecciones anteriores, se debe cargar el geojson de los municipios en el cuaderno de jupyter y abrirlo con geopandas.\n",
        "\n",
        "Una vez abierto guíe a los estudiantes a que, empleando Shapely:\n",
        "\n",
        "\n",
        "\n",
        "1. Localicen su hogar y su barrio sobre el mapa (coordenadas usando geojson.io)\n",
        "\n",
        "barrio: 2.4973469112878957, -76.57555169116988\n",
        "\n",
        "casa 2.4971534693647204, -76.57607788735973\n",
        "\n",
        "\n",
        "\n",
        "\n",
        "\n",
        "Dibujen empleando shapely un recuadro sobre su casa o su barrio, dibujen linestrings y polígonos para representar las carreteras de acceso cercanas y algunas de las características geográficas como pueden ser barrios, ciudades, carreteras, ríos, entre otros.\n",
        "Pida a los estudiantes que una vez tengan dibujados los elementos con Python, investiguen cómo guardar la geometría en formato geojson desde geopandas\n",
        "Una vez generen el archivo geojson, deberán importarlo sobre la herramienta geojson.io Pida a los estudiantes que utilizan la capa “mapa satelital” para que ellos validen si los polígonos se encuentran bien ubicados en el mapa y si representan los elementos que ellos dibujaron. En caso negativo, revise los códigos de representación tanto en geopandas como en geojson.io ya que pueden existir proyecciones diferentes a la UTM.\n",
        "Finalice construyendo conclusiones de la actividad con los estudiantes.\n"
      ],
      "metadata": {
        "id": "BXDw0OKp2eAG"
      }
    },
    {
      "cell_type": "code",
      "execution_count": null,
      "metadata": {
        "id": "ATXMhrJU2U0G"
      },
      "outputs": [],
      "source": [
        "#importo librerias\n",
        "!pip install mapclassify\n",
        "!pip install pandas\n",
        "!pip install shapely matplotlib\n",
        "\n",
        "# Importar las bibliotecas\n",
        "from shapely.geometry import Point, LineString, Polygon\n",
        "import matplotlib.pyplot as plt\n",
        "import geopandas as gpd\n",
        "import numpy as np\n",
        "import matplotlib.pyplot as plt\n",
        "import shapely as shp\n",
        "import pandas as pd\n",
        "import os\n",
        "import mapclassify"
      ]
    },
    {
      "cell_type": "code",
      "source": [
        "#permiso para acceder a drive\n",
        "from google.colab import drive\n",
        "drive.mount('/content/drive')"
      ],
      "metadata": {
        "colab": {
          "base_uri": "https://localhost:8080/"
        },
        "id": "PK6I4c2V3DHh",
        "outputId": "8a8344f5-b07d-4f46-c95f-30f1dc9f4bfc"
      },
      "execution_count": null,
      "outputs": [
        {
          "output_type": "stream",
          "name": "stdout",
          "text": [
            "Mounted at /content/drive\n"
          ]
        }
      ]
    },
    {
      "cell_type": "code",
      "source": [
        "# Cargo el archivo GeoJSON de los municipios\n",
        "#municipios = '/content/drive/MyDrive/geolocalizacion/TallerGeopandas/datasets/municipios.geojson'\n",
        "#shapes = gpd.read_file(municipios)"
      ],
      "metadata": {
        "id": "VE9Y_Aty3Io8"
      },
      "execution_count": null,
      "outputs": []
    },
    {
      "cell_type": "code",
      "source": [
        "# Localizar tu hogar y tu barrio en el mapa (usando coordenadas de geojson.io)\n",
        "x_hogar = 2.4971534693647204\n",
        "y_hogar = -76.57607788735973\n",
        "x_barrio = 2.4973469112878957\n",
        "y_barrio = -76.57555169116988\n",
        "coordenadas_hogar = (x_hogar, y_hogar)  # Ingresa las coordenadas de tu hogar obtenidas de geojson.io\n",
        "coordenadas_barrio = (x_barrio, y_barrio)  # Ingresa las coordenadas de tu barrio obtenidas de geojson.io\n"
      ],
      "metadata": {
        "id": "snKv4jIf7Vv5"
      },
      "execution_count": null,
      "outputs": []
    },
    {
      "cell_type": "code",
      "source": [
        "# Crear un punto para representar tu hogar y tu barrio\n",
        "punto_hogar = Point(coordenadas_hogar)\n",
        "punto_barrio = Point(coordenadas_barrio)"
      ],
      "metadata": {
        "id": "s1s02Wal8Vfr"
      },
      "execution_count": null,
      "outputs": []
    },
    {
      "cell_type": "code",
      "source": [
        "# Dibujar un recuadro sobre tu casa o tu barrio (ejemplo de un cuadrado)\n",
        "recuadro = Polygon([(x_hogar-0.01, y_hogar-0.01), (x_hogar+0.01, y_hogar-0.01),\n",
        "                    (x_hogar+0.000001, y_hogar+0.000001), (x_hogar-0.000001, y_hogar+0.000001)])"
      ],
      "metadata": {
        "id": "du4yfOmF8ZWR"
      },
      "execution_count": null,
      "outputs": []
    },
    {
      "cell_type": "code",
      "source": [
        "# Dibujar linestrings y polígonos para representar características geográficas (ejemplo)\n",
        "carretera_cercana = LineString([(x_hogar-0.01, y_hogar), (x_hogar+0.01, y_hogar)])\n",
        "barrio_cercano = Polygon([(x_barrio-0.02, y_barrio-0.02), (x_barrio+0.02, y_barrio-0.02),\n",
        "                          (x_barrio+0.02, y_barrio+0.02), (x_barrio-0.02, y_barrio+0.02)])"
      ],
      "metadata": {
        "id": "Vn5HIyL09VB4"
      },
      "execution_count": null,
      "outputs": []
    },
    {
      "cell_type": "code",
      "source": [
        "# Guardar la geometría en formato GeoJSON\n",
        "gdf = gpd.GeoDataFrame(geometry=[punto_hogar, punto_barrio, recuadro, carretera_cercana, barrio_cercano])\n",
        "gdf.to_file(\"elementos_geograficos.geojson\", driver='GeoJSON')"
      ],
      "metadata": {
        "id": "II8BtUmO9hSA"
      },
      "execution_count": null,
      "outputs": []
    },
    {
      "cell_type": "code",
      "source": [
        "import geopandas as gpd\n",
        "from shapely.geometry import Point, Polygon, LineString\n",
        "import matplotlib.pyplot as plt\n",
        "\n",
        "# Localizar tu hogar y tu barrio en el mapa (usando coordenadas de geojson.io)\n",
        "x_hogar = -76.576\n",
        "y_hogar = 2.4976\n",
        "x_barrio = -76.5758\n",
        "y_barrio = 2.4976\n",
        "\n",
        "coordenadas_hogar = (x_hogar, y_hogar)\n",
        "coordenadas_barrio = (x_barrio, y_barrio)\n",
        "\n",
        "# Crear un punto para representar tu hogar y tu barrio\n",
        "punto_hogar = Point(coordenadas_hogar)\n",
        "punto_barrio = Point(coordenadas_barrio)\n",
        "\n",
        "# Dibujar un recuadro sobre tu casa o tu barrio (ejemplo de un cuadrado)\n",
        "recuadro = Polygon([(coordenadas_hogar[0]-0.0000001, coordenadas_hogar[1]-0.0000001),\n",
        "                    (coordenadas_hogar[0]+0.0000001, coordenadas_hogar[1]-0.0000001),\n",
        "                    (coordenadas_hogar[0]+0.0000001, coordenadas_hogar[1]+0.0000001),\n",
        "                    (coordenadas_hogar[0]-0.0000001, coordenadas_hogar[1]+0.0000001)])\n",
        "\n",
        "# Dibujar linestrings y polígonos para representar características geográficas (ejemplo)\n",
        "carretera_cercana = LineString([(-76.57898063299918, 2.4931802915546086),\n",
        "                                (-76.5724072128361, 2.496503447692163)])\n",
        "barrio_cercano = Polygon([(coordenadas_barrio[0]-0.02, coordenadas_barrio[1]-0.02),\n",
        "                          (coordenadas_barrio[0]+0.02, coordenadas_barrio[1]-0.02),\n",
        "                          (coordenadas_barrio[0]+0.02, coordenadas_barrio[1]+0.02),\n",
        "                          (coordenadas_barrio[0]-0.02, coordenadas_barrio[1]+0.02)])\n",
        "\n",
        "# Crear un GeoDataFrame\n",
        "\n",
        "gdf = gpd.GeoDataFrame(geometry=[punto_hogar, punto_barrio, recuadro, carretera_cercana, barrio_cercano])\n",
        "\n",
        "# Plotear el GeoDataFrame\n",
        "gdf.plot()\n",
        "plt.show()\n",
        "\n",
        "# Guardar el GeoDataFrame en formato GeoJSON\n",
        "gdf.to_file(\"mi_mapa2.geojson\", driver='GeoJSON')\n",
        "\n",
        "# Abrir GeoJSON.io y cargar el archivo GeoJSON generado\n",
        "# Ve a https://geojson.io/\n",
        "# Haz clic en \"Open\" y selecciona el archivo \"mi_mapa.geojson\" que acabas de guardar\n",
        "# Ahora deberías ver tus geometrías en el mapa"
      ],
      "metadata": {
        "colab": {
          "base_uri": "https://localhost:8080/",
          "height": 430
        },
        "id": "TscBR1b7kfJT",
        "outputId": "21422e4c-682c-45d2-9ae2-3cdeaab3015c"
      },
      "execution_count": 9,
      "outputs": [
        {
          "output_type": "display_data",
          "data": {
            "text/plain": [
              "<Figure size 640x480 with 1 Axes>"
            ],
            "image/png": "[encoded data removed]"
          },
          "metadata": {}
        }
      ]
    },
    {
      "cell_type": "code",
      "source": [
        "import os\n",
        "print(os.getcwd())\n"
      ],
      "metadata": {
        "colab": {
          "base_uri": "https://localhost:8080/"
        },
        "id": "P9Uwn-W3p8oP",
        "outputId": "15271e9f-240c-4862-e000-6727a22d8f03"
      },
      "execution_count": 11,
      "outputs": [
        {
          "output_type": "stream",
          "name": "stdout",
          "text": [
            "/content\n"
          ]
        }
      ]
    },
    {
      "cell_type": "code",
      "source": [
        "# Guardar el GeoDataFrame en formato GeoJSON en el escritorio con un nombre sin espacios\n",
        "#ruta_completa = \"C:/Users/Yady Jimenez/OneDrive/Escritorio/yad_geo\"\n",
        "ruta_completa= \"mi_mapa.geojson\"\n",
        "gdf.to_file(ruta_completa, driver='GeoJSON')\n",
        "print(ruta_completa)\n"
      ],
      "metadata": {
        "colab": {
          "base_uri": "https://localhost:8080/"
        },
        "id": "mfntZiAQqeBf",
        "outputId": "5f8cb268-bf4f-4f0e-df76-883611d81706"
      },
      "execution_count": 10,
      "outputs": [
        {
          "output_type": "stream",
          "name": "stdout",
          "text": [
            "mi_mapa.geojson\n"
          ]
        }
      ]
    },
    {
      "cell_type": "code",
      "source": [
        "#verificar si el archivo existe\n",
        "from os.path import exists\n",
        "ruta_completa= (\"/content/mi_mapa.geojson\")\n",
        "exite=os.path,exists(ruta_completa)\n",
        "print(\"existe?: \", exite)"
      ],
      "metadata": {
        "colab": {
          "base_uri": "https://localhost:8080/"
        },
        "id": "8wRvVDpohc31",
        "outputId": "27e1acc9-9349-4dc2-aeb4-bf6861949b83"
      },
      "execution_count": 14,
      "outputs": [
        {
          "output_type": "stream",
          "name": "stdout",
          "text": [
            "existe?:  (<module 'posixpath' from '/usr/lib/python3.10/posixpath.py'>, True)\n"
          ]
        }
      ]
    },
    {
      "cell_type": "code",
      "source": [
        "import geopandas as gpd\n",
        "from shapely.geometry import Point, Polygon, LineString\n",
        "import matplotlib.pyplot as plt\n",
        "\n",
        "# Localizar tu hogar y tu barrio en el mapa (usando coordenadas de geojson.io)\n",
        "\n",
        "# Dibujar un recuadro sobre tu casa o tu barrio (ejemplo de un cuadrado)\n",
        "recuadro_casa = Polygon([(-76.57610305160782, 2.497133990213797),\n",
        "                        (-76.57610305160782, 2.497250328430269),\n",
        "                        (-76.57622381332736, 2.497250328430269),\n",
        "                        (-76.57622381332736, 2.497133990213797)])\n",
        "#dibujo punto casa\n",
        "punto_casa = Point([(-76.57585762151763, 2.497719895819216)])\n",
        "\n",
        "recuadro_barrio = Polygon ([(-76.57605992242193, 2.498547283405827),\n",
        "                            (-76.5765515951382, 2.497849254641636),\n",
        "                            (-76.57644377217382, 2.497452843079401),\n",
        "                            (-76.5768707511116, 2.497280490187876),\n",
        "                            (-76.5766982343694, 2.4969357843397546),\n",
        "                            (-76.57703032909865, 2.496733269610928),\n",
        "                            (-76.57675430231048, 2.4962679165000594),\n",
        "                            (-76.57541729755607, 2.4969056225728536),\n",
        "                            (-76.57593916070239, 2.497956975153116),\n",
        "                            (-76.57593916070239,2.4983620042022068)])\n",
        "#dibujo punto barrio\n",
        "punto_barrio = Point([(-76.57616719933496, 2.497221051038906)])\n",
        "\n",
        "# Dibujar linestrings y polígonos para representar características geográficas, rios variantes\n",
        "carretera_cercana = LineString([(-76.57603921245251, 2.4987075484162915),\n",
        "                                (-76.57523426525724, 2.4964138004378498),\n",
        "                                (-76.57448420082518, 2.495362878712143)])\n",
        "\n",
        "variente_cercana = LineString([(-76.57229281574226, 2.4965415579052745),\n",
        "                                (-76.57793543287683, 2.493760703356486)])\n",
        "\n",
        "quebrada_cercana = LineString ([(-76.57588605236887, 2.5002243786449156),\n",
        "                            (-76.57509645420858, 2.4996609167368717),\n",
        "                            (-76.57443577003463, 2.499371136233151),\n",
        "                            (-76.5740812565745, 2.4989847621274066),\n",
        "                            (-76.57390399984507, 2.498727179327929),\n",
        "                            (-76.57361394337808, 2.4987593771805905),\n",
        "                            (-76.5732594299186, 2.4988720696582334),\n",
        "                            (-76.57279211672217, 2.498662783620162),\n",
        "                            (-76.57256651724774, 2.4983247061019256),\n",
        "                            (-76.57234091777327, 2.49789003487804),\n",
        "                            (-76.57190583307312, 2.497519759278603),\n",
        "                            (-76.57155131961363, 2.4971172856826627)])\n",
        "\n",
        "# Crear un GeoDataFrame\n",
        "#aqui se cambia el color\n",
        "gdf = gpd.GeoDataFrame(geometry=[punto_hogar, punto_barrio, recuadro_barrio, recuadro_casa, carretera_cercana, variente_cercana, quebrada_cercana])\n",
        "   # Crear un GeoDataFrame con el punto de la casa\n",
        "   #gdf_casa = gpd.GeoDataFrame(geometry=[punto_casa])\n",
        "\n",
        "# Plotear el GeoDataFrame con el punto de la casa, asignando un color específico\n",
        "#gdf_casa.plot(color='red', markersize=50)  # Por ejemplo, aquí he usado color rojo y un tamaño de marcador de 50\n",
        "#plt.show()\n",
        "\n",
        "# Plotear el GeoDataFrame\n",
        "gdf.plot()\n",
        "plt.show()\n",
        "\n",
        "# Guardar el GeoDataFrame en formato GeoJSON\n",
        "gdf.to_file(\"mi_mapa24.geojson\", driver='GeoJSON')\n",
        "\n",
        "# Abrir GeoJSON.io y cargar el archivo GeoJSON generado\n",
        "# Ve a https://geojson.io/\n",
        "# Haz clic en \"Open\" y selecciona el archivo \"mi_mapa.geojson\" que acabas de guardar\n",
        "# Ahora deberías ver tus geometrías en el mapa"
      ],
      "metadata": {
        "colab": {
          "base_uri": "https://localhost:8080/",
          "height": 448
        },
        "id": "Gcns1XJcFoWg",
        "outputId": "c57785f8-e5f3-4ac1-d57a-b0d59e195760"
      },
      "execution_count": 16,
      "outputs": [
        {
          "output_type": "display_data",
          "data": {
            "text/plain": [
              "<Figure size 640x480 with 1 Axes>"
            ],
            "image/png": "[encoded data removed]"
          },
          "metadata": {}
        }
      ]
    }
  ]
}