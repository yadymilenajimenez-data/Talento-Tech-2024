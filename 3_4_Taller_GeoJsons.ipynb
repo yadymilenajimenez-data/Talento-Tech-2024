{
  "nbformat": 4,
  "nbformat_minor": 0,
  "metadata": {
    "colab": {
      "provenance": [],
      "authorship_tag": "ABX9TyPoqQ4BF7v5cEuPolDCIx92",
      "include_colab_link": true
    },
    "kernelspec": {
      "name": "python3",
      "display_name": "Python 3"
    },
    "language_info": {
      "name": "python"
    }
  },
  "cells": [
    {
      "cell_type": "markdown",
      "metadata": {
        "id": "view-in-github",
        "colab_type": "text"
      },
      "source": [
        "<a href=\"https://colab.research.google.com/github/yadymilenajimenez-data/Talento-Tech-2024/blob/master/3_4_Taller_GeoJsons.ipynb\" target=\"_parent\"><img src=\"https://colab.research.google.com/assets/colab-badge.svg\" alt=\"Open In Colab\"/></a>"
      ]
    },
    {
      "cell_type": "markdown",
      "source": [
        " **TALLER**\n",
        "\n",
        "Utilizando los conocimientos y herramientas de las lecciones anteriores, se debe cargar el geojson de los municipios en el cuaderno de jupyter y abrirlo con geopandas.\n",
        "\n",
        "Una vez abierto guíe a los estudiantes a que, empleando Shapely:\n",
        "\n",
        "\n",
        "\n",
        "1. Localicen su hogar y su barrio sobre el mapa (coordenadas usando geojson.io)\n",
        "\n",
        "barrio: 2.4973469112878957, -76.57555169116988\n",
        "\n",
        "casa 2.4971534693647204, -76.57607788735973\n",
        "\n",
        "\n",
        "\n",
        "\n",
        "\n",
        "Dibujen empleando shapely un recuadro sobre su casa o su barrio, dibujen linestrings y polígonos para representar las carreteras de acceso cercanas y algunas de las características geográficas como pueden ser barrios, ciudades, carreteras, ríos, entre otros.\n",
        "Pida a los estudiantes que una vez tengan dibujados los elementos con Python, investiguen cómo guardar la geometría en formato geojson desde geopandas\n",
        "Una vez generen el archivo geojson, deberán importarlo sobre la herramienta geojson.io Pida a los estudiantes que utilizan la capa “mapa satelital” para que ellos validen si los polígonos se encuentran bien ubicados en el mapa y si representan los elementos que ellos dibujaron. En caso negativo, revise los códigos de representación tanto en geopandas como en geojson.io ya que pueden existir proyecciones diferentes a la UTM.\n",
        "Finalice construyendo conclusiones de la actividad con los estudiantes.\n"
      ],
      "metadata": {
        "id": "BXDw0OKp2eAG"
      }
    },
    {
      "cell_type": "code",
      "execution_count": null,
      "metadata": {
        "colab": {
          "base_uri": "https://localhost:8080/"
        },
        "id": "ATXMhrJU2U0G",
        "outputId": "0af832ae-4e52-45c0-9654-57118ed6575d"
      },
      "outputs": [
        {
          "output_type": "stream",
          "name": "stdout",
          "text": [
            "Requirement already satisfied: mapclassify in /usr/local/lib/python3.10/dist-packages (2.6.1)\n",
            "Requirement already satisfied: networkx>=2.7 in /usr/local/lib/python3.10/dist-packages (from mapclassify) (3.2.1)\n",
            "Requirement already satisfied: numpy>=1.23 in /usr/local/lib/python3.10/dist-packages (from mapclassify) (1.25.2)\n",
            "Requirement already satisfied: pandas!=1.5.0,>=1.4 in /usr/local/lib/python3.10/dist-packages (from mapclassify) (1.5.3)\n",
            "Requirement already satisfied: scikit-learn>=1.0 in /usr/local/lib/python3.10/dist-packages (from mapclassify) (1.2.2)\n",
            "Requirement already satisfied: scipy>=1.8 in /usr/local/lib/python3.10/dist-packages (from mapclassify) (1.11.4)\n",
            "Requirement already satisfied: python-dateutil>=2.8.1 in /usr/local/lib/python3.10/dist-packages (from pandas!=1.5.0,>=1.4->mapclassify) (2.8.2)\n",
            "Requirement already satisfied: pytz>=2020.1 in /usr/local/lib/python3.10/dist-packages (from pandas!=1.5.0,>=1.4->mapclassify) (2023.4)\n",
            "Requirement already satisfied: joblib>=1.1.1 in /usr/local/lib/python3.10/dist-packages (from scikit-learn>=1.0->mapclassify) (1.3.2)\n",
            "Requirement already satisfied: threadpoolctl>=2.0.0 in /usr/local/lib/python3.10/dist-packages (from scikit-learn>=1.0->mapclassify) (3.4.0)\n",
            "Requirement already satisfied: six>=1.5 in /usr/local/lib/python3.10/dist-packages (from python-dateutil>=2.8.1->pandas!=1.5.0,>=1.4->mapclassify) (1.16.0)\n",
            "Requirement already satisfied: pandas in /usr/local/lib/python3.10/dist-packages (1.5.3)\n",
            "Requirement already satisfied: python-dateutil>=2.8.1 in /usr/local/lib/python3.10/dist-packages (from pandas) (2.8.2)\n",
            "Requirement already satisfied: pytz>=2020.1 in /usr/local/lib/python3.10/dist-packages (from pandas) (2023.4)\n",
            "Requirement already satisfied: numpy>=1.21.0 in /usr/local/lib/python3.10/dist-packages (from pandas) (1.25.2)\n",
            "Requirement already satisfied: six>=1.5 in /usr/local/lib/python3.10/dist-packages (from python-dateutil>=2.8.1->pandas) (1.16.0)\n",
            "Requirement already satisfied: shapely in /usr/local/lib/python3.10/dist-packages (2.0.3)\n",
            "Requirement already satisfied: matplotlib in /usr/local/lib/python3.10/dist-packages (3.7.1)\n",
            "Requirement already satisfied: numpy<2,>=1.14 in /usr/local/lib/python3.10/dist-packages (from shapely) (1.25.2)\n",
            "Requirement already satisfied: contourpy>=1.0.1 in /usr/local/lib/python3.10/dist-packages (from matplotlib) (1.2.0)\n",
            "Requirement already satisfied: cycler>=0.10 in /usr/local/lib/python3.10/dist-packages (from matplotlib) (0.12.1)\n",
            "Requirement already satisfied: fonttools>=4.22.0 in /usr/local/lib/python3.10/dist-packages (from matplotlib) (4.50.0)\n",
            "Requirement already satisfied: kiwisolver>=1.0.1 in /usr/local/lib/python3.10/dist-packages (from matplotlib) (1.4.5)\n",
            "Requirement already satisfied: packaging>=20.0 in /usr/local/lib/python3.10/dist-packages (from matplotlib) (24.0)\n",
            "Requirement already satisfied: pillow>=6.2.0 in /usr/local/lib/python3.10/dist-packages (from matplotlib) (9.4.0)\n",
            "Requirement already satisfied: pyparsing>=2.3.1 in /usr/local/lib/python3.10/dist-packages (from matplotlib) (3.1.2)\n",
            "Requirement already satisfied: python-dateutil>=2.7 in /usr/local/lib/python3.10/dist-packages (from matplotlib) (2.8.2)\n",
            "Requirement already satisfied: six>=1.5 in /usr/local/lib/python3.10/dist-packages (from python-dateutil>=2.7->matplotlib) (1.16.0)\n"
          ]
        }
      ],
      "source": [
        "#importo librerias\n",
        "!pip install mapclassify\n",
        "!pip install pandas\n",
        "!pip install shapely matplotlib\n",
        "\n",
        "# Importar las bibliotecas\n",
        "from shapely.geometry import Point, LineString, Polygon\n",
        "import matplotlib.pyplot as plt\n",
        "import geopandas as gpd\n",
        "import numpy as np\n",
        "import matplotlib.pyplot as plt\n",
        "import shapely as shp\n",
        "import pandas as pd\n",
        "import os\n",
        "import mapclassify"
      ]
    },
    {
      "cell_type": "code",
      "source": [
        "#permiso para acceder a drive\n",
        "from google.colab import drive\n",
        "drive.mount('/content/drive')"
      ],
      "metadata": {
        "colab": {
          "base_uri": "https://localhost:8080/"
        },
        "id": "PK6I4c2V3DHh",
        "outputId": "812fca19-64a2-423f-9d9a-ead65139db3e"
      },
      "execution_count": null,
      "outputs": [
        {
          "output_type": "stream",
          "name": "stdout",
          "text": [
            "Mounted at /content/drive\n"
          ]
        }
      ]
    },
    {
      "cell_type": "code",
      "source": [
        "# Cargo el archivo GeoJSON de los municipios\n",
        "municipios = '/content/drive/MyDrive/geolocalizacion/TallerGeopandas/datasets/municipios.geojson'\n",
        "shapes = gpd.read_file(municipios)"
      ],
      "metadata": {
        "id": "VE9Y_Aty3Io8"
      },
      "execution_count": null,
      "outputs": []
    },
    {
      "cell_type": "code",
      "source": [
        "# Localizar tu hogar y tu barrio en el mapa (usando coordenadas de geojson.io)\n",
        "x_hogar = 2.4971534693647204\n",
        "y_hogar = -76.57607788735973\n",
        "x_barrio = 2.4973469112878957\n",
        "y_barrio = -76.57555169116988\n",
        "coordenadas_hogar = (x_hogar, y_hogar)  # Ingresa las coordenadas de tu hogar obtenidas de geojson.io\n",
        "coordenadas_barrio = (x_barrio, y_barrio)  # Ingresa las coordenadas de tu barrio obtenidas de geojson.io\n"
      ],
      "metadata": {
        "id": "snKv4jIf7Vv5"
      },
      "execution_count": null,
      "outputs": []
    },
    {
      "cell_type": "code",
      "source": [
        "# Crear un punto para representar tu hogar y tu barrio\n",
        "punto_hogar = Point(coordenadas_hogar)\n",
        "punto_barrio = Point(coordenadas_barrio)"
      ],
      "metadata": {
        "id": "s1s02Wal8Vfr"
      },
      "execution_count": null,
      "outputs": []
    },
    {
      "cell_type": "code",
      "source": [
        "# Dibujar un recuadro sobre tu casa o tu barrio (ejemplo de un cuadrado)\n",
        "recuadro = Polygon([(x_hogar-0.01, y_hogar-0.01), (x_hogar+0.01, y_hogar-0.01),\n",
        "                    (x_hogar+0.01, y_hogar+0.01), (x_hogar-0.01, y_hogar+0.01)])"
      ],
      "metadata": {
        "id": "du4yfOmF8ZWR"
      },
      "execution_count": null,
      "outputs": []
    },
    {
      "cell_type": "code",
      "source": [
        "# Dibujar linestrings y polígonos para representar características geográficas (ejemplo)\n",
        "carretera_cercana = LineString([(x_hogar-0.01, y_hogar), (x_hogar+0.01, y_hogar)])\n",
        "barrio_cercano = Polygon([(x_barrio-0.02, y_barrio-0.02), (x_barrio+0.02, y_barrio-0.02),\n",
        "                          (x_barrio+0.02, y_barrio+0.02), (x_barrio-0.02, y_barrio+0.02)])"
      ],
      "metadata": {
        "id": "Vn5HIyL09VB4"
      },
      "execution_count": null,
      "outputs": []
    },
    {
      "cell_type": "code",
      "source": [
        "# Guardar la geometría en formato GeoJSON\n",
        "gdf = gpd.GeoDataFrame(geometry=[punto_hogar, punto_barrio, recuadro, carretera_cercana, barrio_cercano])\n",
        "gdf.to_file(\"elementos_geograficos.geojson\", driver='GeoJSON')"
      ],
      "metadata": {
        "id": "II8BtUmO9hSA"
      },
      "execution_count": null,
      "outputs": []
    },
    {
      "cell_type": "code",
      "source": [
        "import geopandas as gpd\n",
        "from shapely.geometry import Point, Polygon, LineString\n",
        "\n",
        "# Cargo el archivo GeoJSON de los municipios\n",
        "municipios = '/content/drive/MyDrive/geolocalizacion/TallerGeopandas/datasets/municipios.geojson'\n",
        "shapes = gpd.read_file(municipios)\n",
        "\n",
        "# Localizar tu hogar y tu barrio en el mapa (usando coordenadas de geojson.io)\n",
        "x_hogar = 2.4971534693647204\n",
        "y_hogar = -76.57607788735973\n",
        "x_barrio = 2.4973469112878957\n",
        "y_barrio = -76.57555169116988\n",
        "\n",
        "coordenadas_hogar = (x_hogar, y_hogar)  # Ingresa las coordenadas de tu hogar obtenidas de geojson.io\n",
        "coordenadas_barrio = (x_barrio, y_barrio)  # Ingresa las coordenadas de tu barrio obtenidas de geojson.io\n",
        "\n",
        "\n",
        "# Crear un punto para representar tu hogar y tu barrio\n",
        "punto_hogar = Point(coordenadas_hogar)\n",
        "punto_barrio = Point(coordenadas_barrio)\n",
        "\n",
        "# Dibujar un recuadro sobre tu casa o tu barrio (ejemplo de un cuadrado)\n",
        "recuadro = Polygon([(coordenadas_hogar[0]-0.01, coordenadas_hogar[1]-0.01),\n",
        "                    (coordenadas_hogar[0]+0.01, coordenadas_hogar[1]-0.01),\n",
        "                    (coordenadas_hogar[0]+0.01, coordenadas_hogar[1]+0.01),\n",
        "                    (coordenadas_hogar[0]-0.01, coordenadas_hogar[1]+0.01)])\n",
        "\n",
        "# Dibujar linestrings y polígonos para representar características geográficas (ejemplo)\n",
        "carretera_cercana = LineString([(coordenadas_hogar[0]-0.01, coordenadas_hogar[1]),\n",
        "                                (coordenadas_hogar[0]+0.01, coordenadas_hogar[1])])\n",
        "barrio_cercano = Polygon([(coordenadas_barrio[0]-0.02, coordenadas_barrio[1]-0.02),\n",
        "                          (coordenadas_barrio[0]+0.02, coordenadas_barrio[1]-0.02),\n",
        "                          (coordenadas_barrio[0]+0.02, coordenadas_barrio[1]+0.02),\n",
        "                          (coordenadas_barrio[0]-0.02, coordenadas_barrio[1]+0.02)])\n",
        "\n",
        "# Crear un GeoDataFrame\n",
        "gdf = gpd.GeoDataFrame(geometry=[punto_hogar, punto_barrio, recuadro, carretera_cercana, barrio_cercano])\n",
        "\n",
        "# Plotear el GeoDataFrame\n",
        "gdf.plot()\n"
      ],
      "metadata": {
        "colab": {
          "base_uri": "https://localhost:8080/",
          "height": 448
        },
        "id": "wkqy9dhu9z4_",
        "outputId": "b55b07b8-28e3-4c87-c205-3f23bf419d0b"
      },
      "execution_count": 18,
      "outputs": [
        {
          "output_type": "execute_result",
          "data": {
            "text/plain": [
              "<Axes: >"
            ]
          },
          "metadata": {},
          "execution_count": 18
        },
        {
          "output_type": "display_data",
          "data": {
            "text/plain": [
              "<Figure size 640x480 with 1 Axes>"
            ],
            "image/png": "[encoded data removed]"
          },
          "metadata": {}
        }
      ]
    }
  ]
}